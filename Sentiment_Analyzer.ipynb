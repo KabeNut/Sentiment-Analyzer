{
  "nbformat": 4,
  "nbformat_minor": 0,
  "metadata": {
    "colab": {
      "name": "Sentiment_Analyzer.ipynb",
      "provenance": [],
      "collapsed_sections": [],
      "toc_visible": true,
      "authorship_tag": "ABX9TyPD3MuXjhZfiHU+VTarXC9q",
      "include_colab_link": true
    },
    "kernelspec": {
      "name": "python3",
      "display_name": "Python 3"
    }
  },
  "cells": [
    {
      "cell_type": "markdown",
      "metadata": {
        "id": "view-in-github",
        "colab_type": "text"
      },
      "source": [
        "<a href=\"https://colab.research.google.com/github/fork52/Sentiment-Analyzer/blob/master/Sentiment_Analyzer.ipynb\" target=\"_parent\"><img src=\"https://colab.research.google.com/assets/colab-badge.svg\" alt=\"Open In Colab\"/></a>"
      ]
    },
    {
      "cell_type": "markdown",
      "metadata": {
        "id": "c8W6JcNPSg8-",
        "colab_type": "text"
      },
      "source": [
        "## CONNECT TO DRIVE"
      ]
    },
    {
      "cell_type": "code",
      "metadata": {
        "id": "5mwriaTKSXiv",
        "colab_type": "code",
        "colab": {
          "base_uri": "https://localhost:8080/",
          "height": 54
        },
        "outputId": "48f8b909-3fd6-4166-ff79-e9905b00a74e"
      },
      "source": [
        "from google.colab import drive\n",
        "drive.mount('/content/drive/')"
      ],
      "execution_count": 1,
      "outputs": [
        {
          "output_type": "stream",
          "text": [
            "Drive already mounted at /content/drive/; to attempt to forcibly remount, call drive.mount(\"/content/drive/\", force_remount=True).\n"
          ],
          "name": "stdout"
        }
      ]
    },
    {
      "cell_type": "markdown",
      "metadata": {
        "id": "wSLkihlbS0i5",
        "colab_type": "text"
      },
      "source": [
        "## Set Drive Directory\n"
      ]
    },
    {
      "cell_type": "code",
      "metadata": {
        "id": "8e26s5FbSpHN",
        "colab_type": "code",
        "colab": {
          "base_uri": "https://localhost:8080/",
          "height": 34
        },
        "outputId": "e34bc8d3-1106-4463-9a6c-8506aab975aa"
      },
      "source": [
        "cd \"/content/drive/My Drive/Sentiment Analyzer/\""
      ],
      "execution_count": 2,
      "outputs": [
        {
          "output_type": "stream",
          "text": [
            "/content/drive/My Drive/Sentiment Analyzer\n"
          ],
          "name": "stdout"
        }
      ]
    },
    {
      "cell_type": "code",
      "metadata": {
        "id": "okQDNC7pTAtA",
        "colab_type": "code",
        "colab": {
          "base_uri": "https://localhost:8080/",
          "height": 51
        },
        "outputId": "fb009271-6e5a-421d-91fc-f9bd8375cce6"
      },
      "source": [
        "!ls"
      ],
      "execution_count": 3,
      "outputs": [
        {
          "output_type": "stream",
          "text": [
            "meta.tsv  reviews_Apps_for_Android_5.csv      reviews_new.pkl\t vecs.tsv\n",
            "models\t  reviews_Apps_for_Android_5.json.gz  sentences_new.pkl\n"
          ],
          "name": "stdout"
        }
      ]
    },
    {
      "cell_type": "markdown",
      "metadata": {
        "id": "ZUvIYcsbTYr3",
        "colab_type": "text"
      },
      "source": [
        "## Import Necessary Libraries\n",
        " "
      ]
    },
    {
      "cell_type": "code",
      "metadata": {
        "id": "5BXDBngyTJKo",
        "colab_type": "code",
        "colab": {}
      },
      "source": [
        "from tensorflow.keras.preprocessing.text import Tokenizer\n",
        "from tensorflow.keras.preprocessing.sequence import pad_sequences\n",
        "import numpy as np\n",
        "import pandas as pd\n",
        "import json\n",
        "import gzip\n",
        "import pickle\n",
        "from sklearn.model_selection import train_test_split\n",
        "import tensorflow as tf"
      ],
      "execution_count": 4,
      "outputs": []
    },
    {
      "cell_type": "markdown",
      "metadata": {
        "id": "1vDtpvs5b9Bc",
        "colab_type": "text"
      },
      "source": [
        "# Load data"
      ]
    },
    {
      "cell_type": "markdown",
      "metadata": {
        "id": "5w8py5M6aomK",
        "colab_type": "text"
      },
      "source": [
        "## Extracting data from the .gz file\n",
        "Do only for the first time"
      ]
    },
    {
      "cell_type": "code",
      "metadata": {
        "id": "WMkLe9VcTnKc",
        "colab_type": "code",
        "colab": {}
      },
      "source": [
        "def parse(path):\n",
        "  g = gzip.open(path, 'rb')\n",
        "  for l in g:\n",
        "    yield eval(l)\n",
        "\n",
        "def getDF(path):\n",
        "  i = 0\n",
        "  df = {}\n",
        "  for d in parse(path):\n",
        "    df[i] = d\n",
        "    i += 1\n",
        "  return pd.DataFrame.from_dict(df, orient='index')\n",
        "\n",
        "# load the dataframe in the variable df\n",
        "df = getDF('reviews_Apps_for_Android_5.json.gz')"
      ],
      "execution_count": null,
      "outputs": []
    },
    {
      "cell_type": "code",
      "metadata": {
        "id": "WCe3-I_1UIpd",
        "colab_type": "code",
        "colab": {}
      },
      "source": [
        "# Saving the data frame as csv\n",
        "df.to_csv('reviews_Apps_for_Android_5.csv')"
      ],
      "execution_count": null,
      "outputs": []
    },
    {
      "cell_type": "markdown",
      "metadata": {
        "id": "MVBc8Z5bb1j5",
        "colab_type": "text"
      },
      "source": [
        "## Load data from csv file"
      ]
    },
    {
      "cell_type": "code",
      "metadata": {
        "id": "c8OnHDB-cIsS",
        "colab_type": "code",
        "colab": {}
      },
      "source": [
        "df = pd.read_csv('reviews_Apps_for_Android_5.csv')"
      ],
      "execution_count": null,
      "outputs": []
    },
    {
      "cell_type": "markdown",
      "metadata": {
        "id": "Dk5vIz3hePbi",
        "colab_type": "text"
      },
      "source": [
        "# Exploring the data\n",
        "Make sure you loaded the dataframe"
      ]
    },
    {
      "cell_type": "code",
      "metadata": {
        "id": "IQVepn0HcRNl",
        "colab_type": "code",
        "colab": {
          "base_uri": "https://localhost:8080/",
          "height": 581
        },
        "outputId": "20318d94-b610-44dd-ed60-3f83d85e5122"
      },
      "source": [
        "df.head()"
      ],
      "execution_count": null,
      "outputs": [
        {
          "output_type": "execute_result",
          "data": {
            "text/html": [
              "<div>\n",
              "<style scoped>\n",
              "    .dataframe tbody tr th:only-of-type {\n",
              "        vertical-align: middle;\n",
              "    }\n",
              "\n",
              "    .dataframe tbody tr th {\n",
              "        vertical-align: top;\n",
              "    }\n",
              "\n",
              "    .dataframe thead th {\n",
              "        text-align: right;\n",
              "    }\n",
              "</style>\n",
              "<table border=\"1\" class=\"dataframe\">\n",
              "  <thead>\n",
              "    <tr style=\"text-align: right;\">\n",
              "      <th></th>\n",
              "      <th>Unnamed: 0</th>\n",
              "      <th>reviewerID</th>\n",
              "      <th>asin</th>\n",
              "      <th>reviewerName</th>\n",
              "      <th>helpful</th>\n",
              "      <th>reviewText</th>\n",
              "      <th>overall</th>\n",
              "      <th>summary</th>\n",
              "      <th>unixReviewTime</th>\n",
              "      <th>reviewTime</th>\n",
              "    </tr>\n",
              "  </thead>\n",
              "  <tbody>\n",
              "    <tr>\n",
              "      <th>0</th>\n",
              "      <td>0</td>\n",
              "      <td>A1N4O8VOJZTDVB</td>\n",
              "      <td>B004A9SDD8</td>\n",
              "      <td>Annette Yancey</td>\n",
              "      <td>[1, 1]</td>\n",
              "      <td>Loves the song, so he really couldn't wait to ...</td>\n",
              "      <td>3.0</td>\n",
              "      <td>Really cute</td>\n",
              "      <td>1383350400</td>\n",
              "      <td>11 2, 2013</td>\n",
              "    </tr>\n",
              "    <tr>\n",
              "      <th>1</th>\n",
              "      <td>1</td>\n",
              "      <td>A2HQWU6HUKIEC7</td>\n",
              "      <td>B004A9SDD8</td>\n",
              "      <td>Audiobook lover \"Kathy\"</td>\n",
              "      <td>[0, 0]</td>\n",
              "      <td>Oh, how my little grandson loves this app. He'...</td>\n",
              "      <td>5.0</td>\n",
              "      <td>2-year-old loves it</td>\n",
              "      <td>1323043200</td>\n",
              "      <td>12 5, 2011</td>\n",
              "    </tr>\n",
              "    <tr>\n",
              "      <th>2</th>\n",
              "      <td>2</td>\n",
              "      <td>A1SXASF6GYG96I</td>\n",
              "      <td>B004A9SDD8</td>\n",
              "      <td>Barbara Gibbs</td>\n",
              "      <td>[0, 0]</td>\n",
              "      <td>I found this at a perfect time since my daught...</td>\n",
              "      <td>5.0</td>\n",
              "      <td>Fun game</td>\n",
              "      <td>1337558400</td>\n",
              "      <td>05 21, 2012</td>\n",
              "    </tr>\n",
              "    <tr>\n",
              "      <th>3</th>\n",
              "      <td>3</td>\n",
              "      <td>A2B54P9ZDYH167</td>\n",
              "      <td>B004A9SDD8</td>\n",
              "      <td>Brooke Greenstreet \"Babylove\"</td>\n",
              "      <td>[3, 4]</td>\n",
              "      <td>My 1 year old goes back to this game over and ...</td>\n",
              "      <td>5.0</td>\n",
              "      <td>We love our Monkeys!</td>\n",
              "      <td>1354752000</td>\n",
              "      <td>12 6, 2012</td>\n",
              "    </tr>\n",
              "    <tr>\n",
              "      <th>4</th>\n",
              "      <td>4</td>\n",
              "      <td>AFOFZDTX5UC6D</td>\n",
              "      <td>B004A9SDD8</td>\n",
              "      <td>C. Galindo</td>\n",
              "      <td>[1, 1]</td>\n",
              "      <td>There are three different versions of the song...</td>\n",
              "      <td>5.0</td>\n",
              "      <td>This is my granddaughters favorite app on my K...</td>\n",
              "      <td>1391212800</td>\n",
              "      <td>02 1, 2014</td>\n",
              "    </tr>\n",
              "  </tbody>\n",
              "</table>\n",
              "</div>"
            ],
            "text/plain": [
              "   Unnamed: 0      reviewerID  ... unixReviewTime   reviewTime\n",
              "0           0  A1N4O8VOJZTDVB  ...     1383350400   11 2, 2013\n",
              "1           1  A2HQWU6HUKIEC7  ...     1323043200   12 5, 2011\n",
              "2           2  A1SXASF6GYG96I  ...     1337558400  05 21, 2012\n",
              "3           3  A2B54P9ZDYH167  ...     1354752000   12 6, 2012\n",
              "4           4   AFOFZDTX5UC6D  ...     1391212800   02 1, 2014\n",
              "\n",
              "[5 rows x 10 columns]"
            ]
          },
          "metadata": {
            "tags": []
          },
          "execution_count": 11
        }
      ]
    },
    {
      "cell_type": "markdown",
      "metadata": {
        "id": "h66KIVKCeqfR",
        "colab_type": "text"
      },
      "source": [
        "## No of records in the data"
      ]
    },
    {
      "cell_type": "code",
      "metadata": {
        "id": "XzF9i_p1UE_G",
        "colab_type": "code",
        "colab": {
          "base_uri": "https://localhost:8080/",
          "height": 34
        },
        "outputId": "e7ba655d-ed35-49c0-8be2-b19f438114e8"
      },
      "source": [
        "# No of records = 752937\n",
        "print( 'No of records:' , len(df) )"
      ],
      "execution_count": null,
      "outputs": [
        {
          "output_type": "stream",
          "text": [
            "No of records: 752937\n"
          ],
          "name": "stdout"
        }
      ]
    },
    {
      "cell_type": "markdown",
      "metadata": {
        "id": "165a0lFmewR0",
        "colab_type": "text"
      },
      "source": [
        "## Taking a look at a few reviews.\n",
        "Change the index to see different reviews and their ratings.\n"
      ]
    },
    {
      "cell_type": "code",
      "metadata": {
        "id": "18ymPTnpbGjN",
        "colab_type": "code",
        "colab": {
          "base_uri": "https://localhost:8080/",
          "height": 85
        },
        "outputId": "73c398c9-d573-47b7-a935-6d0bb88e7d22"
      },
      "source": [
        "index = 41170\n",
        "print('Review:\\n  ', df.iloc[index]['reviewText'])\n",
        "print('Summary:',df.iloc[index]['summary'])\n",
        "print('Ratings:',df.iloc[index]['overall'] )"
      ],
      "execution_count": null,
      "outputs": [
        {
          "output_type": "stream",
          "text": [
            "Review:\n",
            "   nan\n",
            "Summary: My picture is worth a 1000 words\n",
            "Ratings: 5.0\n"
          ],
          "name": "stdout"
        }
      ]
    },
    {
      "cell_type": "code",
      "metadata": {
        "id": "Mckv6X01ckLr",
        "colab_type": "code",
        "colab": {
          "base_uri": "https://localhost:8080/",
          "height": 170
        },
        "outputId": "d62e0cac-2b65-4286-b5bf-13a07eeba938"
      },
      "source": [
        "df['overall'].describe()"
      ],
      "execution_count": null,
      "outputs": [
        {
          "output_type": "execute_result",
          "data": {
            "text/plain": [
              "count    752937.000000\n",
              "mean          3.968931\n",
              "std           1.342484\n",
              "min           1.000000\n",
              "25%           3.000000\n",
              "50%           5.000000\n",
              "75%           5.000000\n",
              "max           5.000000\n",
              "Name: overall, dtype: float64"
            ]
          },
          "metadata": {
            "tags": []
          },
          "execution_count": 14
        }
      ]
    },
    {
      "cell_type": "markdown",
      "metadata": {
        "id": "ZxLPQg7Hs6ui",
        "colab_type": "text"
      },
      "source": [
        "# Get Sentences and Get Lablels"
      ]
    },
    {
      "cell_type": "markdown",
      "metadata": {
        "id": "vjhFA1O-tIHQ",
        "colab_type": "text"
      },
      "source": [
        "## Obtain Sentences from the dataframe"
      ]
    },
    {
      "cell_type": "code",
      "metadata": {
        "id": "eCz4w32vfBdT",
        "colab_type": "code",
        "colab": {}
      },
      "source": [
        "def get_sentences(df):\n",
        "    n = len(df)\n",
        "    sentences = [ df.iloc[i]['reviewText'] for i in range(n) if isinstance(df.iloc[i]['reviewText'],str) ]\n",
        "    return sentences\n",
        "\n",
        "def get_labels(df):\n",
        "    n = len(df)\n",
        "    reviews = [ int(df.iloc[i]['overall'])-1 for i in range(n) if isinstance(df.iloc[i]['reviewText'],str) ]\n",
        "    return reviews"
      ],
      "execution_count": null,
      "outputs": []
    },
    {
      "cell_type": "code",
      "metadata": {
        "id": "PfT6xAW3frP0",
        "colab_type": "code",
        "colab": {}
      },
      "source": [
        "sentences = get_sentences(df)\n",
        "reviews = get_labels(df)"
      ],
      "execution_count": null,
      "outputs": []
    },
    {
      "cell_type": "code",
      "metadata": {
        "id": "No-pFPAPtsNx",
        "colab_type": "code",
        "colab": {}
      },
      "source": [
        "#save the files\n",
        "with open('sentences_new.pkl', 'wb') as f:\n",
        "    pickle.dump(sentences, f)\n",
        "with open('reviews_new.pkl', 'wb') as f:\n",
        "    pickle.dump(reviews, f)"
      ],
      "execution_count": null,
      "outputs": []
    },
    {
      "cell_type": "markdown",
      "metadata": {
        "id": "ykIaUaJjtXG_",
        "colab_type": "text"
      },
      "source": [
        "## Load data from the .pkl files"
      ]
    },
    {
      "cell_type": "code",
      "metadata": {
        "id": "yDt1JLZqode2",
        "colab_type": "code",
        "colab": {
          "base_uri": "https://localhost:8080/",
          "height": 34
        },
        "outputId": "7cdff289-d2b3-41a8-c524-df1786cbd7a3"
      },
      "source": [
        "with open('sentences_new.pkl', 'rb') as f:\n",
        "    sentences = pickle.load(f)\n",
        "with open('reviews_new.pkl', 'rb') as f:\n",
        "    reviews = pickle.load(f)\n",
        "print(len(sentences),len(reviews))"
      ],
      "execution_count": 5,
      "outputs": [
        {
          "output_type": "stream",
          "text": [
            "752927 752927\n"
          ],
          "name": "stdout"
        }
      ]
    },
    {
      "cell_type": "markdown",
      "metadata": {
        "id": "-0XcEpkWx6xv",
        "colab_type": "text"
      },
      "source": [
        "# Train-Test split"
      ]
    },
    {
      "cell_type": "code",
      "metadata": {
        "id": "vRqHPWNmpCqa",
        "colab_type": "code",
        "colab": {
          "base_uri": "https://localhost:8080/",
          "height": 51
        },
        "outputId": "40175a48-4edc-4033-d993-605525acb656"
      },
      "source": [
        "X_train, X_test, y_train, y_test=train_test_split(\n",
        "    sentences, reviews , test_size=0.05, random_state=42\n",
        ")\n",
        "\n",
        "print( len(X_train) , len(y_train) )\n",
        "print( len(X_test)  , len(y_test) )"
      ],
      "execution_count": 6,
      "outputs": [
        {
          "output_type": "stream",
          "text": [
            "715280 715280\n",
            "37647 37647\n"
          ],
          "name": "stdout"
        }
      ]
    },
    {
      "cell_type": "markdown",
      "metadata": {
        "id": "Y2j4iAV1x5hB",
        "colab_type": "text"
      },
      "source": [
        "# Tokenize the string and perform padding on the string"
      ]
    },
    {
      "cell_type": "code",
      "metadata": {
        "id": "WBlzs2w-q8jj",
        "colab_type": "code",
        "colab": {}
      },
      "source": [
        "# Set hyperparameters\n",
        "vocab_size = 20000\n",
        "embedding_dim = 32\n",
        "oov_tok = \"<OOV>\"\n",
        "trunc_type='post'\n",
        "max_length = 220\n",
        "padding_type='post'\n",
        "\n",
        "\n",
        "# Fit tokenizer on the training data\n",
        "tokenizer = Tokenizer(num_words = vocab_size, oov_token=oov_tok)\n",
        "tokenizer.fit_on_texts(X_train)\n",
        "word_index = tokenizer.word_index\n",
        "\n",
        "#save the tokenizer\n",
        "with open('models/tokenizer.pkl', 'wb') as f:\n",
        "    pickle.dump(tokenizer,f)"
      ],
      "execution_count": 7,
      "outputs": []
    },
    {
      "cell_type": "code",
      "metadata": {
        "id": "SB6PRa5uuTbP",
        "colab_type": "code",
        "colab": {}
      },
      "source": [
        "def prepare_input(X):\n",
        "    '''Get the padded sequences'''\n",
        "    sequences = tokenizer.texts_to_sequences(X)\n",
        "\n",
        "    padded = pad_sequences(\n",
        "                           sequences,\n",
        "                           maxlen=max_length,\n",
        "                           truncating=trunc_type,\n",
        "                           padding=padding_type\n",
        "                        )\n",
        "    return sequences"
      ],
      "execution_count": 31,
      "outputs": []
    },
    {
      "cell_type": "code",
      "metadata": {
        "id": "mstkSyvSvK4q",
        "colab_type": "code",
        "colab": {}
      },
      "source": [
        " # Prepare testing and training data\n",
        "train_data = prepare_input(X_train)\n",
        "testing_data = prepare_input(X_test)"
      ],
      "execution_count": 32,
      "outputs": []
    },
    {
      "cell_type": "markdown",
      "metadata": {
        "id": "DeteHADT4Qxz",
        "colab_type": "text"
      },
      "source": [
        "# Defining the model"
      ]
    },
    {
      "cell_type": "code",
      "metadata": {
        "id": "pemr9EcR18B_",
        "colab_type": "code",
        "colab": {
          "base_uri": "https://localhost:8080/",
          "height": 323
        },
        "outputId": "36f668b0-e985-452e-bb7d-72378f48c524"
      },
      "source": [
        "model = tf.keras.Sequential([\n",
        "    tf.keras.layers.Embedding(vocab_size, embedding_dim),\n",
        "    tf.keras.layers.Bidirectional(tf.keras.layers.LSTM(64,  return_sequences=True)),\n",
        "    tf.keras.layers.Bidirectional(tf.keras.layers.LSTM(32)),\n",
        "    tf.keras.layers.Dense(64, activation='relu'),\n",
        "    tf.keras.layers.Dense(5, activation='softmax')\n",
        "])\n",
        "\n",
        "model.compile(loss='sparse_categorical_crossentropy',optimizer='adam',metrics=['accuracy'])\n",
        "model.summary()"
      ],
      "execution_count": 35,
      "outputs": [
        {
          "output_type": "stream",
          "text": [
            "Model: \"sequential_2\"\n",
            "_________________________________________________________________\n",
            "Layer (type)                 Output Shape              Param #   \n",
            "=================================================================\n",
            "embedding_2 (Embedding)      (None, None, 32)          640000    \n",
            "_________________________________________________________________\n",
            "bidirectional_4 (Bidirection (None, None, 128)         49664     \n",
            "_________________________________________________________________\n",
            "bidirectional_5 (Bidirection (None, 64)                41216     \n",
            "_________________________________________________________________\n",
            "dense_4 (Dense)              (None, 64)                4160      \n",
            "_________________________________________________________________\n",
            "dense_5 (Dense)              (None, 5)                 325       \n",
            "=================================================================\n",
            "Total params: 735,365\n",
            "Trainable params: 735,365\n",
            "Non-trainable params: 0\n",
            "_________________________________________________________________\n"
          ],
          "name": "stdout"
        }
      ]
    },
    {
      "cell_type": "markdown",
      "metadata": {
        "id": "Uk0xQPSVsqaI",
        "colab_type": "text"
      },
      "source": [
        "# Training the model"
      ]
    },
    {
      "cell_type": "code",
      "metadata": {
        "id": "iliqmeZ9521x",
        "colab_type": "code",
        "colab": {
          "base_uri": "https://localhost:8080/",
          "height": 391
        },
        "outputId": "54bd4abc-a8c3-4b98-8375-f5f75b4627c1"
      },
      "source": [
        "num_epochs = 6\n",
        "model.fit(\n",
        "          train_data, \n",
        "          np.array(y_train,dtype=int),\n",
        "          epochs=num_epochs, \n",
        "          validation_data=( testing_data , np.array(y_test) )\n",
        ")"
      ],
      "execution_count": 36,
      "outputs": [
        {
          "output_type": "error",
          "ename": "ValueError",
          "evalue": "ignored",
          "traceback": [
            "\u001b[0;31m---------------------------------------------------------------------------\u001b[0m",
            "\u001b[0;31mValueError\u001b[0m                                Traceback (most recent call last)",
            "\u001b[0;32m<ipython-input-36-aabbd115371d>\u001b[0m in \u001b[0;36m<module>\u001b[0;34m()\u001b[0m\n\u001b[1;32m      4\u001b[0m           \u001b[0mnp\u001b[0m\u001b[0;34m.\u001b[0m\u001b[0marray\u001b[0m\u001b[0;34m(\u001b[0m\u001b[0my_train\u001b[0m\u001b[0;34m,\u001b[0m\u001b[0mdtype\u001b[0m\u001b[0;34m=\u001b[0m\u001b[0mint\u001b[0m\u001b[0;34m)\u001b[0m\u001b[0;34m,\u001b[0m\u001b[0;34m\u001b[0m\u001b[0;34m\u001b[0m\u001b[0m\n\u001b[1;32m      5\u001b[0m           \u001b[0mepochs\u001b[0m\u001b[0;34m=\u001b[0m\u001b[0mnum_epochs\u001b[0m\u001b[0;34m,\u001b[0m\u001b[0;34m\u001b[0m\u001b[0;34m\u001b[0m\u001b[0m\n\u001b[0;32m----> 6\u001b[0;31m           \u001b[0mvalidation_data\u001b[0m\u001b[0;34m=\u001b[0m\u001b[0;34m(\u001b[0m \u001b[0mtesting_data\u001b[0m \u001b[0;34m,\u001b[0m \u001b[0mnp\u001b[0m\u001b[0;34m.\u001b[0m\u001b[0marray\u001b[0m\u001b[0;34m(\u001b[0m\u001b[0my_test\u001b[0m\u001b[0;34m)\u001b[0m \u001b[0;34m)\u001b[0m\u001b[0;34m\u001b[0m\u001b[0;34m\u001b[0m\u001b[0m\n\u001b[0m\u001b[1;32m      7\u001b[0m )\n",
            "\u001b[0;32m/usr/local/lib/python3.6/dist-packages/tensorflow/python/keras/engine/training.py\u001b[0m in \u001b[0;36m_method_wrapper\u001b[0;34m(self, *args, **kwargs)\u001b[0m\n\u001b[1;32m     64\u001b[0m   \u001b[0;32mdef\u001b[0m \u001b[0m_method_wrapper\u001b[0m\u001b[0;34m(\u001b[0m\u001b[0mself\u001b[0m\u001b[0;34m,\u001b[0m \u001b[0;34m*\u001b[0m\u001b[0margs\u001b[0m\u001b[0;34m,\u001b[0m \u001b[0;34m**\u001b[0m\u001b[0mkwargs\u001b[0m\u001b[0;34m)\u001b[0m\u001b[0;34m:\u001b[0m\u001b[0;34m\u001b[0m\u001b[0;34m\u001b[0m\u001b[0m\n\u001b[1;32m     65\u001b[0m     \u001b[0;32mif\u001b[0m \u001b[0;32mnot\u001b[0m \u001b[0mself\u001b[0m\u001b[0;34m.\u001b[0m\u001b[0m_in_multi_worker_mode\u001b[0m\u001b[0;34m(\u001b[0m\u001b[0;34m)\u001b[0m\u001b[0;34m:\u001b[0m  \u001b[0;31m# pylint: disable=protected-access\u001b[0m\u001b[0;34m\u001b[0m\u001b[0;34m\u001b[0m\u001b[0m\n\u001b[0;32m---> 66\u001b[0;31m       \u001b[0;32mreturn\u001b[0m \u001b[0mmethod\u001b[0m\u001b[0;34m(\u001b[0m\u001b[0mself\u001b[0m\u001b[0;34m,\u001b[0m \u001b[0;34m*\u001b[0m\u001b[0margs\u001b[0m\u001b[0;34m,\u001b[0m \u001b[0;34m**\u001b[0m\u001b[0mkwargs\u001b[0m\u001b[0;34m)\u001b[0m\u001b[0;34m\u001b[0m\u001b[0;34m\u001b[0m\u001b[0m\n\u001b[0m\u001b[1;32m     67\u001b[0m \u001b[0;34m\u001b[0m\u001b[0m\n\u001b[1;32m     68\u001b[0m     \u001b[0;31m# Running inside `run_distribute_coordinator` already.\u001b[0m\u001b[0;34m\u001b[0m\u001b[0;34m\u001b[0m\u001b[0;34m\u001b[0m\u001b[0m\n",
            "\u001b[0;32m/usr/local/lib/python3.6/dist-packages/tensorflow/python/keras/engine/training.py\u001b[0m in \u001b[0;36mfit\u001b[0;34m(self, x, y, batch_size, epochs, verbose, callbacks, validation_split, validation_data, shuffle, class_weight, sample_weight, initial_epoch, steps_per_epoch, validation_steps, validation_batch_size, validation_freq, max_queue_size, workers, use_multiprocessing)\u001b[0m\n\u001b[1;32m    813\u001b[0m           \u001b[0mworkers\u001b[0m\u001b[0;34m=\u001b[0m\u001b[0mworkers\u001b[0m\u001b[0;34m,\u001b[0m\u001b[0;34m\u001b[0m\u001b[0;34m\u001b[0m\u001b[0m\n\u001b[1;32m    814\u001b[0m           \u001b[0muse_multiprocessing\u001b[0m\u001b[0;34m=\u001b[0m\u001b[0muse_multiprocessing\u001b[0m\u001b[0;34m,\u001b[0m\u001b[0;34m\u001b[0m\u001b[0;34m\u001b[0m\u001b[0m\n\u001b[0;32m--> 815\u001b[0;31m           model=self)\n\u001b[0m\u001b[1;32m    816\u001b[0m \u001b[0;34m\u001b[0m\u001b[0m\n\u001b[1;32m    817\u001b[0m       \u001b[0;31m# Container that configures and calls `tf.keras.Callback`s.\u001b[0m\u001b[0;34m\u001b[0m\u001b[0;34m\u001b[0m\u001b[0;34m\u001b[0m\u001b[0m\n",
            "\u001b[0;32m/usr/local/lib/python3.6/dist-packages/tensorflow/python/keras/engine/data_adapter.py\u001b[0m in \u001b[0;36m__init__\u001b[0;34m(self, x, y, sample_weight, batch_size, steps_per_epoch, initial_epoch, epochs, shuffle, class_weight, max_queue_size, workers, use_multiprocessing, model)\u001b[0m\n\u001b[1;32m   1097\u001b[0m     \u001b[0mself\u001b[0m\u001b[0;34m.\u001b[0m\u001b[0m_insufficient_data\u001b[0m \u001b[0;34m=\u001b[0m \u001b[0;32mFalse\u001b[0m\u001b[0;34m\u001b[0m\u001b[0;34m\u001b[0m\u001b[0m\n\u001b[1;32m   1098\u001b[0m \u001b[0;34m\u001b[0m\u001b[0m\n\u001b[0;32m-> 1099\u001b[0;31m     \u001b[0madapter_cls\u001b[0m \u001b[0;34m=\u001b[0m \u001b[0mselect_data_adapter\u001b[0m\u001b[0;34m(\u001b[0m\u001b[0mx\u001b[0m\u001b[0;34m,\u001b[0m \u001b[0my\u001b[0m\u001b[0;34m)\u001b[0m\u001b[0;34m\u001b[0m\u001b[0;34m\u001b[0m\u001b[0m\n\u001b[0m\u001b[1;32m   1100\u001b[0m     self._adapter = adapter_cls(\n\u001b[1;32m   1101\u001b[0m         \u001b[0mx\u001b[0m\u001b[0;34m,\u001b[0m\u001b[0;34m\u001b[0m\u001b[0;34m\u001b[0m\u001b[0m\n",
            "\u001b[0;32m/usr/local/lib/python3.6/dist-packages/tensorflow/python/keras/engine/data_adapter.py\u001b[0m in \u001b[0;36mselect_data_adapter\u001b[0;34m(x, y)\u001b[0m\n\u001b[1;32m    961\u001b[0m         \u001b[0;34m\"Failed to find data adapter that can handle \"\u001b[0m\u001b[0;34m\u001b[0m\u001b[0;34m\u001b[0m\u001b[0m\n\u001b[1;32m    962\u001b[0m         \"input: {}, {}\".format(\n\u001b[0;32m--> 963\u001b[0;31m             _type_name(x), _type_name(y)))\n\u001b[0m\u001b[1;32m    964\u001b[0m   \u001b[0;32melif\u001b[0m \u001b[0mlen\u001b[0m\u001b[0;34m(\u001b[0m\u001b[0madapter_cls\u001b[0m\u001b[0;34m)\u001b[0m \u001b[0;34m>\u001b[0m \u001b[0;36m1\u001b[0m\u001b[0;34m:\u001b[0m\u001b[0;34m\u001b[0m\u001b[0;34m\u001b[0m\u001b[0m\n\u001b[1;32m    965\u001b[0m     raise RuntimeError(\n",
            "\u001b[0;31mValueError\u001b[0m: Failed to find data adapter that can handle input: (<class 'list'> containing values of types {\"(<class 'list'> containing values of types set())\", '(<class \\'list\\'> containing values of types {\"<class \\'int\\'>\"})'}), <class 'numpy.ndarray'>"
          ]
        }
      ]
    },
    {
      "cell_type": "code",
      "metadata": {
        "id": "JCQ4mIoHU8jb",
        "colab_type": "code",
        "colab": {
          "base_uri": "https://localhost:8080/",
          "height": 105
        },
        "outputId": "c5ccea14-0ec3-4ab9-f15b-a00351f23b16"
      },
      "source": [
        "model.save('models/basic_model')"
      ],
      "execution_count": null,
      "outputs": [
        {
          "output_type": "stream",
          "text": [
            "WARNING:tensorflow:From /usr/local/lib/python3.6/dist-packages/tensorflow/python/ops/resource_variable_ops.py:1817: calling BaseResourceVariable.__init__ (from tensorflow.python.ops.resource_variable_ops) with constraint is deprecated and will be removed in a future version.\n",
            "Instructions for updating:\n",
            "If using Keras pass *_constraint arguments to layers.\n",
            "INFO:tensorflow:Assets written to: models/basic_model/assets\n"
          ],
          "name": "stdout"
        }
      ]
    },
    {
      "cell_type": "code",
      "metadata": {
        "id": "Ljd-aG_XVaD9",
        "colab_type": "code",
        "colab": {}
      },
      "source": [
        "#load the saved model\n",
        "new_model = tf.keras.models.load_model('models/basic_model')\n",
        "model = new_model"
      ],
      "execution_count": null,
      "outputs": []
    },
    {
      "cell_type": "code",
      "metadata": {
        "id": "_yZYz5DFV2cF",
        "colab_type": "code",
        "colab": {
          "base_uri": "https://localhost:8080/",
          "height": 34
        },
        "outputId": "2e6ba027-2846-408e-fabf-269fe1998384"
      },
      "source": [
        "new_sent = ['The product is just decent and amazing.']\n",
        "new_data = prepare_input(new_sent)\n",
        "rating = np.argmax( model.predict(new_data) ) + 1\n",
        "print('Rating given by model is:',rating)"
      ],
      "execution_count": null,
      "outputs": [
        {
          "output_type": "stream",
          "text": [
            "Rating given by model is: 5\n"
          ],
          "name": "stdout"
        }
      ]
    },
    {
      "cell_type": "code",
      "metadata": {
        "id": "JVxr5TWB2orA",
        "colab_type": "code",
        "colab": {
          "base_uri": "https://localhost:8080/",
          "height": 51
        },
        "outputId": "32f287a0-41f0-4600-8095-9c9a6a2857a4"
      },
      "source": [
        "# Reverse the model's index\n",
        "reverse_word_index = dict([(value, key) for (key, value) in word_index.items()])\n",
        "\n",
        "# Get the weights from the model's embedding layer\n",
        "e = model.layers[0]\n",
        "weights = e.get_weights()[0]\n",
        "print(weights.shape) # shape: (vocab_size, embedding_dim)\n",
        "\n",
        "\n",
        "# Write the embeddings to the files\n",
        "import io\n",
        "\n",
        "out_v = io.open('vecs.tsv', 'w', encoding='utf-8')\n",
        "out_m = io.open('meta.tsv', 'w', encoding='utf-8')\n",
        "for word_num in range(1, vocab_size):\n",
        "  word = reverse_word_index[word_num]\n",
        "  embeddings = weights[word_num]\n",
        "  out_m.write(word + \"\\n\")\n",
        "  out_v.write('\\t'.join([str(x) for x in embeddings]) + \"\\n\")\n",
        "out_v.close()\n",
        "out_m.close()\n",
        "\n",
        "\n",
        "try:\n",
        "  from google.colab import files\n",
        "except ImportError:\n",
        "  pass\n",
        "else:\n",
        "  files.download('vecs.tsv')\n",
        "  files.download('meta.tsv')"
      ],
      "execution_count": null,
      "outputs": [
        {
          "output_type": "stream",
          "text": [
            "(20000, 32)\n"
          ],
          "name": "stdout"
        },
        {
          "output_type": "display_data",
          "data": {
            "application/javascript": [
              "\n",
              "    async function download(id, filename, size) {\n",
              "      if (!google.colab.kernel.accessAllowed) {\n",
              "        return;\n",
              "      }\n",
              "      const div = document.createElement('div');\n",
              "      const label = document.createElement('label');\n",
              "      label.textContent = `Downloading \"${filename}\": `;\n",
              "      div.appendChild(label);\n",
              "      const progress = document.createElement('progress');\n",
              "      progress.max = size;\n",
              "      div.appendChild(progress);\n",
              "      document.body.appendChild(div);\n",
              "\n",
              "      const buffers = [];\n",
              "      let downloaded = 0;\n",
              "\n",
              "      const channel = await google.colab.kernel.comms.open(id);\n",
              "      // Send a message to notify the kernel that we're ready.\n",
              "      channel.send({})\n",
              "\n",
              "      for await (const message of channel.messages) {\n",
              "        // Send a message to notify the kernel that we're ready.\n",
              "        channel.send({})\n",
              "        if (message.buffers) {\n",
              "          for (const buffer of message.buffers) {\n",
              "            buffers.push(buffer);\n",
              "            downloaded += buffer.byteLength;\n",
              "            progress.value = downloaded;\n",
              "          }\n",
              "        }\n",
              "      }\n",
              "      const blob = new Blob(buffers, {type: 'application/binary'});\n",
              "      const a = document.createElement('a');\n",
              "      a.href = window.URL.createObjectURL(blob);\n",
              "      a.download = filename;\n",
              "      div.appendChild(a);\n",
              "      a.click();\n",
              "      div.remove();\n",
              "    }\n",
              "  "
            ],
            "text/plain": [
              "<IPython.core.display.Javascript object>"
            ]
          },
          "metadata": {
            "tags": []
          }
        },
        {
          "output_type": "display_data",
          "data": {
            "application/javascript": [
              "download(\"download_f5caf095-3831-40cc-bd96-f9f7d59fdf3e\", \"vecs.tsv\", 7237483)"
            ],
            "text/plain": [
              "<IPython.core.display.Javascript object>"
            ]
          },
          "metadata": {
            "tags": []
          }
        },
        {
          "output_type": "display_data",
          "data": {
            "application/javascript": [
              "\n",
              "    async function download(id, filename, size) {\n",
              "      if (!google.colab.kernel.accessAllowed) {\n",
              "        return;\n",
              "      }\n",
              "      const div = document.createElement('div');\n",
              "      const label = document.createElement('label');\n",
              "      label.textContent = `Downloading \"${filename}\": `;\n",
              "      div.appendChild(label);\n",
              "      const progress = document.createElement('progress');\n",
              "      progress.max = size;\n",
              "      div.appendChild(progress);\n",
              "      document.body.appendChild(div);\n",
              "\n",
              "      const buffers = [];\n",
              "      let downloaded = 0;\n",
              "\n",
              "      const channel = await google.colab.kernel.comms.open(id);\n",
              "      // Send a message to notify the kernel that we're ready.\n",
              "      channel.send({})\n",
              "\n",
              "      for await (const message of channel.messages) {\n",
              "        // Send a message to notify the kernel that we're ready.\n",
              "        channel.send({})\n",
              "        if (message.buffers) {\n",
              "          for (const buffer of message.buffers) {\n",
              "            buffers.push(buffer);\n",
              "            downloaded += buffer.byteLength;\n",
              "            progress.value = downloaded;\n",
              "          }\n",
              "        }\n",
              "      }\n",
              "      const blob = new Blob(buffers, {type: 'application/binary'});\n",
              "      const a = document.createElement('a');\n",
              "      a.href = window.URL.createObjectURL(blob);\n",
              "      a.download = filename;\n",
              "      div.appendChild(a);\n",
              "      a.click();\n",
              "      div.remove();\n",
              "    }\n",
              "  "
            ],
            "text/plain": [
              "<IPython.core.display.Javascript object>"
            ]
          },
          "metadata": {
            "tags": []
          }
        },
        {
          "output_type": "display_data",
          "data": {
            "application/javascript": [
              "download(\"download_1c327156-4cd4-472e-9a8e-11b207cb5466\", \"meta.tsv\", 153815)"
            ],
            "text/plain": [
              "<IPython.core.display.Javascript object>"
            ]
          },
          "metadata": {
            "tags": []
          }
        }
      ]
    },
    {
      "cell_type": "code",
      "metadata": {
        "id": "uW62dim3PbU9",
        "colab_type": "code",
        "colab": {}
      },
      "source": [
        ""
      ],
      "execution_count": null,
      "outputs": []
    }
  ]
}